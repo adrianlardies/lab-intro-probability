{
 "cells": [
  {
   "cell_type": "markdown",
   "metadata": {},
   "source": [
    "# Lab | Intro to Probability"
   ]
  },
  {
   "cell_type": "markdown",
   "metadata": {},
   "source": [
    "**Objective**\n",
    "\n",
    "Welcome to this Intro to Probability lab, where we explore decision-making scenarios through the lens of probability and strategic analysis. In the business world, making informed decisions is crucial, especially when faced with uncertainties. This lab focuses on scenarios where probabilistic outcomes play a significant role in shaping strategies and outcomes. Students will engage in exercises that require assessing and choosing optimal paths based on data-driven insights. The goal is to enhance your skills by applying probability concepts to solve real-world problems."
   ]
  },
  {
   "cell_type": "markdown",
   "metadata": {},
   "source": [
    "**Challenge 1**"
   ]
  },
  {
   "cell_type": "markdown",
   "metadata": {},
   "source": [
    "#### Ironhack Airlines \n",
    "\n",
    "Often Airlines sell more tickets than they have seats available, this is called overbooking. Consider the following:\n",
    "- A plane has 450 seats. \n",
    "- Based on historical data we conclude that each individual passenger has a 3% chance of missing it's flight. \n",
    "\n",
    "If the Ironhack Airlines routinely sells 460 tickets, what is the chance that they have a seats for all passenger?"
   ]
  },
  {
   "cell_type": "markdown",
   "metadata": {},
   "source": [
    "- Distribución binomial.\n",
    "- n es el nº de billetes vendidos: 460\n",
    "- p es la probabilidad de que el pasajero tenga su asiento."
   ]
  },
  {
   "cell_type": "code",
   "execution_count": 1,
   "metadata": {},
   "outputs": [],
   "source": [
    "from scipy.stats import binom\n",
    "\n",
    "n = 460\n",
    "p = 0.97\n",
    "\n",
    "binom_dist = binom(n, p)"
   ]
  },
  {
   "cell_type": "markdown",
   "metadata": {},
   "source": [
    "- Cálculo de la probabilidad habiendo más de 450 pasajeros.\n",
    "- Cáculo de la probabilidad acumulada hasta 450 pasajeros, después hacemos 1 (100% - esa cantidad)."
   ]
  },
  {
   "cell_type": "code",
   "execution_count": 4,
   "metadata": {},
   "outputs": [
    {
     "data": {
      "text/plain": [
       "0.11552275337845685"
      ]
     },
     "execution_count": 4,
     "metadata": {},
     "output_type": "execute_result"
    }
   ],
   "source": [
    "probabilidad_todos_tengan_asiento = 1 - binom_dist.cdf(450)\n",
    "probabilidad_todos_tengan_asiento"
   ]
  },
  {
   "cell_type": "markdown",
   "metadata": {},
   "source": [
    "- 11.55% de probabilidad."
   ]
  },
  {
   "cell_type": "markdown",
   "metadata": {},
   "source": [
    "**Challenge 2**"
   ]
  },
  {
   "cell_type": "markdown",
   "metadata": {},
   "source": [
    "#### Ironhack Call Center "
   ]
  },
  {
   "cell_type": "markdown",
   "metadata": {},
   "source": [
    "Suppose a customer service representative at a call center is handling customer complaints. Consider the following:\n",
    "- The probability of successfully resolving a customer complaint on the first attempt is 0.3. \n",
    "\n",
    "\n",
    "What is the probability that the representative needs to make at least three attempts before successfully resolving a customer complaint?"
   ]
  },
  {
   "cell_type": "markdown",
   "metadata": {},
   "source": [
    "- Distribución geométrica.\n",
    "- Nº de intentos necesarios hasta el primer éxito en una serie de ensayos de Bernoulli, donde cada ensayo tiene una probabilidad de éxito constante.\n",
    "- p = 0.3, es la probabilidad de resolver una queja en el primer intento.\n",
    "\n",
    "- La probabilidad de que el primer intento falle es 1 − p = 0.7\n",
    "- La probabilidad de que el segundo intento también falle es 0.7\n",
    "- La probabilidad de que se necesiten al menos tres intentos es equivalente a la probabilidad de que los dos primeros intentos fallen.\n",
    "\n",
    "- La probabilidad de necesitar al menos 3 intentos es: (1-p) x (1-p) = 0.7 x 0.7 = 0.49"
   ]
  },
  {
   "cell_type": "code",
   "execution_count": 5,
   "metadata": {},
   "outputs": [
    {
     "data": {
      "text/plain": [
       "0.49"
      ]
     },
     "execution_count": 5,
     "metadata": {},
     "output_type": "execute_result"
    }
   ],
   "source": [
    "from scipy.stats import geom\n",
    "\n",
    "p = 0.3\n",
    "\n",
    "probabilidad_al_menos_3_intentos = 1 - geom.cdf(2, p)\n",
    "probabilidad_al_menos_3_intentos"
   ]
  },
  {
   "cell_type": "markdown",
   "metadata": {},
   "source": [
    "- 49%"
   ]
  },
  {
   "cell_type": "markdown",
   "metadata": {},
   "source": [
    "**Challenge 3**"
   ]
  },
  {
   "cell_type": "markdown",
   "metadata": {},
   "source": [
    "#### Ironhack Website"
   ]
  },
  {
   "cell_type": "markdown",
   "metadata": {},
   "source": [
    "Consider a scenario related to Ironhack website traffic. Where:\n",
    "- our website takes on average 500 visits per hour.\n",
    "- the website's server is designed to handle up to 550 vists per hour.\n",
    "\n",
    "\n",
    "What is the probability of the website server being overwhelmed?"
   ]
  },
  {
   "cell_type": "markdown",
   "metadata": {},
   "source": [
    "- Distribución Poisson.\n",
    "- Conteo de eventos (visitas) que ocurren de manera independiente en un intervalo de tiempo fijo.\n",
    "\n",
    "- Función de distribución acumulada (CDF) para calcular p(x < o igual a 550), luego restaremos ese valor de 1 para obtener p(x>550)."
   ]
  },
  {
   "cell_type": "code",
   "execution_count": 6,
   "metadata": {},
   "outputs": [
    {
     "data": {
      "text/plain": [
       "0.01289822084039205"
      ]
     },
     "execution_count": 6,
     "metadata": {},
     "output_type": "execute_result"
    }
   ],
   "source": [
    "from scipy.stats import poisson\n",
    "\n",
    "lambda_visitas = 500\n",
    "\n",
    "probabilidad_sobrecarga = 1 - poisson.cdf(550, lambda_visitas)\n",
    "probabilidad_sobrecarga"
   ]
  },
  {
   "cell_type": "markdown",
   "metadata": {},
   "source": [
    "- Primero calculamos la probabilidad acumulada de que el número de visitas por hora sea menor o igual a 550.\n",
    "- Después restamos esta probabilidad de 1 para obtener la probabilidad de que el número de visitas exceda 550, lo que causaría una sobrecarga del servidor."
   ]
  },
  {
   "cell_type": "markdown",
   "metadata": {},
   "source": [
    "What is the probability of being overwhelmed at some point during a day? (consider 24hours)"
   ]
  },
  {
   "cell_type": "markdown",
   "metadata": {},
   "source": [
    "- Probabilidad de no sobrecarga en una hora."
   ]
  },
  {
   "cell_type": "code",
   "execution_count": 7,
   "metadata": {},
   "outputs": [],
   "source": [
    "probabilidad_no_sobrecarga_una_hora = 1 - probabilidad_sobrecarga"
   ]
  },
  {
   "cell_type": "markdown",
   "metadata": {},
   "source": [
    "- Probabilidad de no sobrecarga en 24 horas."
   ]
  },
  {
   "cell_type": "code",
   "execution_count": 8,
   "metadata": {},
   "outputs": [],
   "source": [
    "probabilidad_no_sobrecarga_dia = probabilidad_no_sobrecarga_una_hora ** 24"
   ]
  },
  {
   "cell_type": "markdown",
   "metadata": {},
   "source": [
    "- Probabilidad de sobrecarga al menos una vez en el día"
   ]
  },
  {
   "cell_type": "code",
   "execution_count": 9,
   "metadata": {},
   "outputs": [
    {
     "data": {
      "text/plain": [
       "0.2677043869515715"
      ]
     },
     "execution_count": 9,
     "metadata": {},
     "output_type": "execute_result"
    }
   ],
   "source": [
    "probabilidad_sobrecarga_dia = 1 - probabilidad_no_sobrecarga_dia\n",
    "probabilidad_sobrecarga_dia"
   ]
  },
  {
   "cell_type": "markdown",
   "metadata": {},
   "source": [
    "- La probabilidad de que esto ocurra es el producto de las probabilidades de que el servidor no se sobrecargue en cada hora."
   ]
  },
  {
   "cell_type": "markdown",
   "metadata": {},
   "source": [
    "**Challenge 4**"
   ]
  },
  {
   "cell_type": "markdown",
   "metadata": {},
   "source": [
    "#### Ironhack Helpdesk"
   ]
  },
  {
   "cell_type": "markdown",
   "metadata": {},
   "source": [
    "Consider a scenario related to the time between arrivals of customers at a service desk.\n",
    "\n",
    "On average, a customers arrives every 10minutes.\n",
    "\n",
    "What is the probability that the next customer will arrive within the next 5 minutes?"
   ]
  },
  {
   "cell_type": "markdown",
   "metadata": {},
   "source": [
    "- Distribución exponencial, tiempo entre eventos en un proceso de Poisson.\n",
    "- El tiempo promedio entre la llegada de clientes es de 10 minutos, lo que nos da la tasa de llegada.\n",
    "- La tasa de llegada es el inverso del tiempo promedio, es decir, 1 / 10 clientes por minuto.\n",
    "- t es el tiempo en minutos."
   ]
  },
  {
   "cell_type": "code",
   "execution_count": 10,
   "metadata": {},
   "outputs": [
    {
     "data": {
      "text/plain": [
       "0.3934693402873666"
      ]
     },
     "execution_count": 10,
     "metadata": {},
     "output_type": "execute_result"
    }
   ],
   "source": [
    "import math\n",
    "\n",
    "lambda_llegadas = 1 / 10\n",
    "t = 5\n",
    "\n",
    "probabilidad_llegada_5_minutos = 1 - math.exp(-lambda_llegadas * t)\n",
    "probabilidad_llegada_5_minutos"
   ]
  },
  {
   "cell_type": "markdown",
   "metadata": {},
   "source": [
    "- lambda_llegadas es el inverso del tiempo promedio entre llegadas (10 minutos).\n",
    "- Calculamos la probabilidad acumulada de que el próximo cliente llegue dentro de los próximos 5 minutos usando la fórmula de la distribución exponencial.\n",
    "- Restamos la función exponencial de 1 para obtener la probabilidad acumulada."
   ]
  },
  {
   "cell_type": "markdown",
   "metadata": {},
   "source": [
    "If there is no customer for 15minutes, employees can that a 5minutes break.\n",
    "\n",
    "What is the probability an employee taking a break?"
   ]
  },
  {
   "cell_type": "markdown",
   "metadata": {},
   "source": [
    "- Para que un empleado pueda tomar un descanso de 5 minutos, no debe haber ninguna llegada de clientes en un intervalo de 15 minutos antes del descanso. \n",
    "- Necesitamos calcular la probabilidad de que no llegue ningún cliente en un período de 15 minutos."
   ]
  },
  {
   "cell_type": "code",
   "execution_count": 11,
   "metadata": {},
   "outputs": [
    {
     "data": {
      "text/plain": [
       "0.22313016014842982"
      ]
     },
     "execution_count": 11,
     "metadata": {},
     "output_type": "execute_result"
    }
   ],
   "source": [
    "t = 15\n",
    "\n",
    "probabilidad_no_llegada_15_minutos = math.exp(-lambda_llegadas * t)\n",
    "probabilidad_no_llegada_15_minutos"
   ]
  },
  {
   "cell_type": "markdown",
   "metadata": {},
   "source": [
    "- Probabilidad de que un empleado pueda tomar un descanso de 5 minutos, dado que no ha habido clientes durante los 15 minutos anteriores."
   ]
  },
  {
   "cell_type": "markdown",
   "metadata": {},
   "source": [
    "**Challenge 5**"
   ]
  },
  {
   "cell_type": "markdown",
   "metadata": {},
   "source": [
    "The weights of a certain species of birds follow a normal distribution with a mean weight of 150 grams and a standard deviation of 10 grams. \n",
    "\n",
    "- If we randomly select a bird, what is the probability that its weight is between 140 and 160 grams?"
   ]
  },
  {
   "cell_type": "markdown",
   "metadata": {},
   "source": [
    "- Distribución normal (Gaussiana).\n",
    "- Distribución normal con media de 150 g.\n",
    "- Desviación estándar de 10 g.\n",
    "- Calculamos la probabilidad de que un pájarop al azar pese entre 140 y 160 g."
   ]
  },
  {
   "cell_type": "code",
   "execution_count": 12,
   "metadata": {},
   "outputs": [
    {
     "name": "stdout",
     "output_type": "stream",
     "text": [
      "La probabilidad de peso entre 140 y 160 g es 0.6827\n"
     ]
    }
   ],
   "source": [
    "from scipy.stats import norm\n",
    "\n",
    "mean = 150\n",
    "std = 10\n",
    "\n",
    "norm_dist = norm(loc=mean, scale=std)\n",
    "\n",
    "prob_entre_140_y_160 = norm_dist.cdf(160) - norm_dist.cdf(140)\n",
    "\n",
    "print(f\"La probabilidad de peso entre 140 y 160 g es {prob_entre_140_y_160:.4f}\")"
   ]
  },
  {
   "cell_type": "markdown",
   "metadata": {},
   "source": [
    "- El resultado es la diferencia de las probabilidades acumuladas de que los pesos sean menores o iguales a 160 y 140 respectivamente."
   ]
  },
  {
   "cell_type": "markdown",
   "metadata": {},
   "source": [
    "**Challenge 6**"
   ]
  },
  {
   "cell_type": "markdown",
   "metadata": {},
   "source": [
    "If the lifetime (in hours) of a certain electronic component follows an exponential distribution with a mean lifetime of 50 hours, what is the probability that the component fails within the first 30 hours?"
   ]
  },
  {
   "cell_type": "markdown",
   "metadata": {},
   "source": [
    "- Distribución exponencial.\n",
    "- Tiempo hasta el fallo de un componente cuando los fallos ocurren de manera continua.\n",
    "- La tasa de fallo es el inverso del tiempo medio de vida: 1 / 50"
   ]
  },
  {
   "cell_type": "code",
   "execution_count": 13,
   "metadata": {},
   "outputs": [
    {
     "data": {
      "text/plain": [
       "0.4511883639059735"
      ]
     },
     "execution_count": 13,
     "metadata": {},
     "output_type": "execute_result"
    }
   ],
   "source": [
    "mean_lifetime = 50\n",
    "lambda_failure = 1 / mean_lifetime\n",
    "time = 30 \n",
    "\n",
    "prob_failure_within_30_hours = 1 - math.exp(-lambda_failure * time)\n",
    "prob_failure_within_30_hours"
   ]
  },
  {
   "cell_type": "markdown",
   "metadata": {},
   "source": [
    "- math.exp(-lambda_failure * time) -> Calculamos la función exponencial que representa la probabilidad acumulada hasta t = 30 horas.\n",
    "- Restamos a esa cantidad 1 para calcular la probabilidad de que el componente falle dentro de las primeras 30 horas."
   ]
  }
 ],
 "metadata": {
  "kernelspec": {
   "display_name": "Python 3",
   "language": "python",
   "name": "python3"
  },
  "language_info": {
   "codemirror_mode": {
    "name": "ipython",
    "version": 3
   },
   "file_extension": ".py",
   "mimetype": "text/x-python",
   "name": "python",
   "nbconvert_exporter": "python",
   "pygments_lexer": "ipython3",
   "version": "3.12.4"
  }
 },
 "nbformat": 4,
 "nbformat_minor": 2
}
